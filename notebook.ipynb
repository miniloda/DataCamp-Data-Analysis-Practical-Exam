{
 "cells": [
  {
   "source": "# Data Analyst Professional Practical Exam Submission\n\n**You can use any tool that you want to do your analysis and create visualizations. Use this template to write up your summary for submission.**\n\nYou can use any markdown formatting you wish. If you are not familiar with Markdown, read the [Markdown Guide](https://s3.amazonaws.com/talent-assets.datacamp.com/Markdown+Guide.pdf) before you start.\n",
   "metadata": {},
   "id": "a3d4387f-fa24-4a80-906b-4cca195b6736",
   "cell_type": "markdown"
  },
  {
   "source": "## 📝 Task List\n\nYour written report should include written text summaries and graphics of the following:\n- Data validation:   \n  - Describe validation and cleaning steps for every column in the data \n- Exploratory Analysis:  \n  - Include two different graphics showing single variables only to demonstrate the characteristics of data  \n  - Include at least one graphic showing two or more variables to represent the relationship between features\n  - Describe your findings\n- Definition of a metric for the business to monitor  \n  - How should the business use the metric to monitor the business problem\n  - Can you estimate initial value(s) for the metric based on the current data\n- Final summary including recommendations that the business should undertake\n\n*Start writing report here..*",
   "metadata": {},
   "id": "562d9d77-2e1e-4523-a28e-1e3b388f930c",
   "cell_type": "markdown"
  },
  {
   "source": "",
   "metadata": {},
   "id": "c22f7f5b-2a69-4515-8b29-7b0e94829f11",
   "cell_type": "markdown"
  },
  {
   "metadata": {
    "ExecuteTime": {
     "end_time": "2024-08-19T20:08:27.146976Z",
     "start_time": "2024-08-19T20:08:20.782462Z"
    }
   },
   "cell_type": "code",
   "source": [
    "# import necessary libraries\n",
    "import numpy as np\n",
    "import pandas as pd\n",
    "import matplotlib.pyplot as plt\n",
    "import seaborn as sns"
   ],
   "id": "3cb814c6a64236ab",
   "outputs": [],
   "execution_count": 16
  },
  {
   "metadata": {
    "ExecuteTime": {
     "end_time": "2024-08-19T20:08:27.849361Z",
     "start_time": "2024-08-19T20:08:27.805832Z"
    }
   },
   "cell_type": "code",
   "source": [
    "# read data\n",
    "df = pd.read_csv('product_sales.csv')\n",
    "df.head()"
   ],
   "id": "529e550ce966f132",
   "outputs": [
    {
     "data": {
      "text/plain": [
       "   week  sales_method                           customer_id  nb_sold  revenue  \\\n",
       "0     2         Email  2e72d641-95ac-497b-bbf8-4861764a7097       10      NaN   \n",
       "1     6  Email + Call  3998a98d-70f5-44f7-942e-789bb8ad2fe7       15   225.47   \n",
       "2     5          Call  d1de9884-8059-4065-b10f-86eef57e4a44       11    52.55   \n",
       "3     4         Email  78aa75a4-ffeb-4817-b1d0-2f030783c5d7       11      NaN   \n",
       "4     3         Email  10e6d446-10a5-42e5-8210-1b5438f70922        9    90.49   \n",
       "\n",
       "   years_as_customer  nb_site_visits      state  \n",
       "0                  0              24    Arizona  \n",
       "1                  1              28     Kansas  \n",
       "2                  6              26  Wisconsin  \n",
       "3                  3              25    Indiana  \n",
       "4                  0              28   Illinois  "
      ],
      "text/html": [
       "<div>\n",
       "<style scoped>\n",
       "    .dataframe tbody tr th:only-of-type {\n",
       "        vertical-align: middle;\n",
       "    }\n",
       "\n",
       "    .dataframe tbody tr th {\n",
       "        vertical-align: top;\n",
       "    }\n",
       "\n",
       "    .dataframe thead th {\n",
       "        text-align: right;\n",
       "    }\n",
       "</style>\n",
       "<table border=\"1\" class=\"dataframe\">\n",
       "  <thead>\n",
       "    <tr style=\"text-align: right;\">\n",
       "      <th></th>\n",
       "      <th>week</th>\n",
       "      <th>sales_method</th>\n",
       "      <th>customer_id</th>\n",
       "      <th>nb_sold</th>\n",
       "      <th>revenue</th>\n",
       "      <th>years_as_customer</th>\n",
       "      <th>nb_site_visits</th>\n",
       "      <th>state</th>\n",
       "    </tr>\n",
       "  </thead>\n",
       "  <tbody>\n",
       "    <tr>\n",
       "      <th>0</th>\n",
       "      <td>2</td>\n",
       "      <td>Email</td>\n",
       "      <td>2e72d641-95ac-497b-bbf8-4861764a7097</td>\n",
       "      <td>10</td>\n",
       "      <td>NaN</td>\n",
       "      <td>0</td>\n",
       "      <td>24</td>\n",
       "      <td>Arizona</td>\n",
       "    </tr>\n",
       "    <tr>\n",
       "      <th>1</th>\n",
       "      <td>6</td>\n",
       "      <td>Email + Call</td>\n",
       "      <td>3998a98d-70f5-44f7-942e-789bb8ad2fe7</td>\n",
       "      <td>15</td>\n",
       "      <td>225.47</td>\n",
       "      <td>1</td>\n",
       "      <td>28</td>\n",
       "      <td>Kansas</td>\n",
       "    </tr>\n",
       "    <tr>\n",
       "      <th>2</th>\n",
       "      <td>5</td>\n",
       "      <td>Call</td>\n",
       "      <td>d1de9884-8059-4065-b10f-86eef57e4a44</td>\n",
       "      <td>11</td>\n",
       "      <td>52.55</td>\n",
       "      <td>6</td>\n",
       "      <td>26</td>\n",
       "      <td>Wisconsin</td>\n",
       "    </tr>\n",
       "    <tr>\n",
       "      <th>3</th>\n",
       "      <td>4</td>\n",
       "      <td>Email</td>\n",
       "      <td>78aa75a4-ffeb-4817-b1d0-2f030783c5d7</td>\n",
       "      <td>11</td>\n",
       "      <td>NaN</td>\n",
       "      <td>3</td>\n",
       "      <td>25</td>\n",
       "      <td>Indiana</td>\n",
       "    </tr>\n",
       "    <tr>\n",
       "      <th>4</th>\n",
       "      <td>3</td>\n",
       "      <td>Email</td>\n",
       "      <td>10e6d446-10a5-42e5-8210-1b5438f70922</td>\n",
       "      <td>9</td>\n",
       "      <td>90.49</td>\n",
       "      <td>0</td>\n",
       "      <td>28</td>\n",
       "      <td>Illinois</td>\n",
       "    </tr>\n",
       "  </tbody>\n",
       "</table>\n",
       "</div>"
      ]
     },
     "execution_count": 17,
     "metadata": {},
     "output_type": "execute_result"
    }
   ],
   "execution_count": 17
  },
  {
   "metadata": {},
   "cell_type": "markdown",
   "source": [
    "## Data Validation and Cleaning\n",
    "\n",
    "- Check for missing values and duplicates\n",
    "- Handle missing values by either removing the rows or filling them with appropriate values\n",
    "- Identify duplicates and decide whether to remove them or keep them\n",
    "- Check for data types and convert them if necessary\n",
    "- Check for outliers and decide whether to remove them or keep them\n",
    "\n",
    "### Columns\n",
    "**Week** (int): Week number (1-52) <br>\n",
    "**sales_method** (categorical): Sales method (Email, Call, Email + Call) <br>\n",
    "**customer_id** (string): Unique identifier for each customer <br>\n",
    "**nb_sold** (int): Number of products sold <br>\n",
    "**revenue** (float): Revenue generated from sales <br>\n",
    "**years_as_customer** (int): Number of years the customer has been a customer <br>\n",
    "**nb_site_visits** (int): Number of site visits made by the customer <br>\n",
    "**state** (categorical): State of the customer (New York, California, Texas, etc.)\n"
   ],
   "id": "e2c08bce60e6bf59"
  },
  {
   "metadata": {
    "ExecuteTime": {
     "end_time": "2024-08-19T20:08:29.303869Z",
     "start_time": "2024-08-19T20:08:29.288433Z"
    }
   },
   "cell_type": "code",
   "source": [
    "print('Total number of rows:', df.shape[0]) \n",
    "print(df.info())"
   ],
   "id": "6089bf3d1538c8d3",
   "outputs": [
    {
     "name": "stdout",
     "output_type": "stream",
     "text": [
      "Total number of rows: 15000\n",
      "<class 'pandas.core.frame.DataFrame'>\n",
      "RangeIndex: 15000 entries, 0 to 14999\n",
      "Data columns (total 8 columns):\n",
      " #   Column             Non-Null Count  Dtype  \n",
      "---  ------             --------------  -----  \n",
      " 0   week               15000 non-null  int64  \n",
      " 1   sales_method       15000 non-null  object \n",
      " 2   customer_id        15000 non-null  object \n",
      " 3   nb_sold            15000 non-null  int64  \n",
      " 4   revenue            13926 non-null  float64\n",
      " 5   years_as_customer  15000 non-null  int64  \n",
      " 6   nb_site_visits     15000 non-null  int64  \n",
      " 7   state              15000 non-null  object \n",
      "dtypes: float64(1), int64(4), object(3)\n",
      "memory usage: 937.6+ KB\n",
      "None\n"
     ]
    }
   ],
   "execution_count": 18
  },
  {
   "metadata": {
    "jupyter": {
     "is_executing": true
    },
    "ExecuteTime": {
     "start_time": "2024-08-19T20:08:29.826141Z"
    }
   },
   "cell_type": "code",
   "source": [
    "# print categorical columns\n",
    "cat_cols = df.select_dtypes(include=['object']).columns.tolist()\n",
    "print('Categorical columns:', cat_cols)\n",
    "fig, ax = plt.subplots(1, len(cat_cols), figsize=(15,15))\n",
    "for i, col in enumerate(cat_cols):\n",
    "    sns.countplot(x=col, data=df, ax=ax[i])\n",
    "    ax[i].set_title(col)\n",
    "    ax[i].set_xlabel('')\n",
    "    ax[i].set_ylabel('')\n",
    "    plt.xticks(rotation=45)\n",
    "    plt.tight_layout()\n"
   ],
   "id": "60b175325e060ae1",
   "outputs": [
    {
     "name": "stdout",
     "output_type": "stream",
     "text": [
      "Categorical columns: ['sales_method', 'customer_id', 'state']\n"
     ]
    }
   ],
   "execution_count": null
  },
  {
   "source": "## ✅ When you have finished...\n-  Publish your Workspace using the option on the left\n-  Check the published version of your report:\n\t-  Can you see everything you want us to grade?\n    -  Are all the graphics visible?\n-  Review the grading rubric. Have you included everything that will be graded?\n-  Head back to the [Certification Dashboard](https://app.datacamp.com/certification) to submit your practical exam report and record your presentation",
   "metadata": {},
   "id": "9c5042af-7f73-4808-b735-c262418c9395",
   "cell_type": "markdown"
  }
 ],
 "metadata": {
  "colab": {
   "name": "Welcome to DataCamp Workspaces.ipynb",
   "provenance": []
  },
  "kernelspec": {
   "display_name": "Python 3 (ipykernel)",
   "language": "python",
   "name": "python3"
  },
  "language_info": {
   "codemirror_mode": {
    "name": "ipython",
    "version": 3
   },
   "file_extension": ".py",
   "mimetype": "text/x-python",
   "name": "python",
   "nbconvert_exporter": "python",
   "pygments_lexer": "ipython3",
   "version": "3.8.10"
  }
 },
 "nbformat": 4,
 "nbformat_minor": 5
}
